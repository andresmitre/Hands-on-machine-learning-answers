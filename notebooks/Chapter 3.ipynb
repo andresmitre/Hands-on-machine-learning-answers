{
 "cells": [
  {
   "cell_type": "code",
   "execution_count": 1,
   "metadata": {},
   "outputs": [
    {
     "data": {
      "text/plain": [
       "dict_keys(['data', 'target', 'frame', 'categories', 'feature_names', 'target_names', 'DESCR', 'details', 'url'])"
      ]
     },
     "execution_count": 1,
     "metadata": {},
     "output_type": "execute_result"
    }
   ],
   "source": [
    "from sklearn.datasets import fetch_openml\n",
    "import pandas as pd\n",
    "\n",
    "mnist = fetch_openml('mnist_784', version=1, as_frame=False)\n",
    "mnist.keys()"
   ]
  },
  {
   "cell_type": "code",
   "execution_count": 2,
   "metadata": {},
   "outputs": [
    {
     "data": {
      "text/plain": [
       "(70000, 784)"
      ]
     },
     "execution_count": 2,
     "metadata": {},
     "output_type": "execute_result"
    }
   ],
   "source": [
    "X, y = mnist['data'], mnist['target']\n",
    "X.shape"
   ]
  },
  {
   "cell_type": "code",
   "execution_count": 39,
   "metadata": {},
   "outputs": [
    {
     "data": {
      "image/png": "[encoded data removed]",
      "text/plain": [
       "<Figure size 432x288 with 1 Axes>"
      ]
     },
     "metadata": {
      "needs_background": "light"
     },
     "output_type": "display_data"
    }
   ],
   "source": [
    "%matplotlib inline\n",
    "import matplotlib as mpl\n",
    "import matplotlib.pyplot as plt\n",
    "\n",
    "some_digit = X_test[0]\n",
    "some_digit_image = some_digit.reshape(28, 28)\n",
    "plt.imshow(some_digit_image, cmap=mpl.cm.binary)\n",
    "plt.axis(\"off\")\n",
    "plt.show()"
   ]
  },
  {
   "cell_type": "code",
   "execution_count": 3,
   "metadata": {},
   "outputs": [],
   "source": [
    "X_train, X_test, y_train, y_test = X[:60000], X[60000:], y[:60000], y[60000:]"
   ]
  },
  {
   "cell_type": "markdown",
   "metadata": {},
   "source": [
    "## K-nearest neighbord"
   ]
  },
  {
   "cell_type": "code",
   "execution_count": 5,
   "metadata": {},
   "outputs": [
    {
     "name": "stdout",
     "output_type": "stream",
     "text": [
      "(60000, 784) (10000, 784) (60000,) (10000,)\n"
     ]
    }
   ],
   "source": [
    "print(X_train.shape, X_test.shape, y_train.shape, y_test.shape)"
   ]
  },
  {
   "cell_type": "code",
   "execution_count": 34,
   "metadata": {},
   "outputs": [
    {
     "name": "stdout",
     "output_type": "stream",
     "text": [
      "Fitting 2 folds for each of 8 candidates, totalling 16 fits\n",
      "[CV 1/2] END n_neighbors=3, weights=uniform; accuracy: (test=0.966) f1_macro: (test=0.965) f1_weighted: (test=0.966) precision: (test=0.966) recall: (test=0.965) total time=  47.5s\n",
      "[CV 2/2] END n_neighbors=3, weights=uniform; accuracy: (test=0.965) f1_macro: (test=0.964) f1_weighted: (test=0.964) precision: (test=0.965) recall: (test=0.964) total time=  45.0s\n",
      "[CV 1/2] END n_neighbors=3, weights=distance; accuracy: (test=0.967) f1_macro: (test=0.967) f1_weighted: (test=0.967) precision: (test=0.967) recall: (test=0.966) total time=  42.9s\n",
      "[CV 2/2] END n_neighbors=3, weights=distance; accuracy: (test=0.966) f1_macro: (test=0.965) f1_weighted: (test=0.966) precision: (test=0.966) recall: (test=0.965) total time=  43.8s\n",
      "[CV 1/2] END n_neighbors=5, weights=uniform; accuracy: (test=0.963) f1_macro: (test=0.963) f1_weighted: (test=0.963) precision: (test=0.964) recall: (test=0.963) total time=  47.4s\n",
      "[CV 2/2] END n_neighbors=5, weights=uniform; accuracy: (test=0.964) f1_macro: (test=0.964) f1_weighted: (test=0.964) precision: (test=0.964) recall: (test=0.963) total time=  46.3s\n",
      "[CV 1/2] END n_neighbors=5, weights=distance; accuracy: (test=0.965) f1_macro: (test=0.965) f1_weighted: (test=0.965) precision: (test=0.966) recall: (test=0.964) total time=  44.6s\n",
      "[CV 2/2] END n_neighbors=5, weights=distance; accuracy: (test=0.966) f1_macro: (test=0.965) f1_weighted: (test=0.965) precision: (test=0.966) recall: (test=0.965) total time=  44.9s\n",
      "[CV 1/2] END n_neighbors=7, weights=uniform; accuracy: (test=0.962) f1_macro: (test=0.961) f1_weighted: (test=0.962) precision: (test=0.963) recall: (test=0.961) total time=  46.3s\n",
      "[CV 2/2] END n_neighbors=7, weights=uniform; accuracy: (test=0.963) f1_macro: (test=0.962) f1_weighted: (test=0.962) precision: (test=0.963) recall: (test=0.962) total time=  44.8s\n",
      "[CV 1/2] END n_neighbors=7, weights=distance; accuracy: (test=0.963) f1_macro: (test=0.963) f1_weighted: (test=0.963) precision: (test=0.964) recall: (test=0.962) total time=  45.1s\n",
      "[CV 2/2] END n_neighbors=7, weights=distance; accuracy: (test=0.964) f1_macro: (test=0.964) f1_weighted: (test=0.964) precision: (test=0.964) recall: (test=0.963) total time=  44.3s\n",
      "[CV 1/2] END n_neighbors=9, weights=uniform; accuracy: (test=0.960) f1_macro: (test=0.960) f1_weighted: (test=0.960) precision: (test=0.961) recall: (test=0.959) total time=  46.6s\n",
      "[CV 2/2] END n_neighbors=9, weights=uniform; accuracy: (test=0.960) f1_macro: (test=0.960) f1_weighted: (test=0.960) precision: (test=0.961) recall: (test=0.959) total time=  44.9s\n",
      "[CV 1/2] END n_neighbors=9, weights=distance; accuracy: (test=0.961) f1_macro: (test=0.961) f1_weighted: (test=0.961) precision: (test=0.962) recall: (test=0.960) total time=  44.5s\n",
      "[CV 2/2] END n_neighbors=9, weights=distance; accuracy: (test=0.961) f1_macro: (test=0.961) f1_weighted: (test=0.961) precision: (test=0.962) recall: (test=0.961) total time=  43.4s\n"
     ]
    }
   ],
   "source": [
    "from sklearn.model_selection import GridSearchCV\n",
    "from sklearn.neighbors import KNeighborsClassifier\n",
    "from sklearn.metrics import accuracy_score, precision_score, recall_score, f1_score\n",
    "from sklearn.metrics import make_scorer\n",
    "\n",
    "\n",
    "param_grid = [\n",
    "        {'n_neighbors': [3, 5, 7, 9], 'weights': ['uniform','distance']}\n",
    "        ]\n",
    "\n",
    "scoring = {'accuracy': make_scorer(accuracy_score),\n",
    "           'precision': make_scorer(precision_score, average = 'macro'),\n",
    "           'recall': make_scorer(recall_score, average = 'macro'),\n",
    "           'f1_macro': make_scorer(f1_score, average = 'macro'),\n",
    "           'f1_weighted': make_scorer(f1_score, average = 'weighted')}\n",
    "\n",
    "model = KNeighborsClassifier()\n",
    "\n",
    "grid_search = GridSearchCV(model, param_grid, cv=2, \n",
    "                           scoring=scoring, verbose=3, refit=False)\n",
    "\n",
    "grid_search.fit(X_train, y_train)\n",
    "cv_results = pd.DataFrame.from_dict(grid_search.cv_results_)"
   ]
  },
  {
   "cell_type": "code",
   "execution_count": 36,
   "metadata": {},
   "outputs": [
    {
     "data": {
      "text/plain": [
       "mean_fit_time              float64\n",
       "std_fit_time               float64\n",
       "mean_score_time            float64\n",
       "std_score_time             float64\n",
       "param_n_neighbors           object\n",
       "param_weights               object\n",
       "params                      object\n",
       "split0_test_accuracy       float64\n",
       "split1_test_accuracy       float64\n",
       "mean_test_accuracy         float64\n",
       "std_test_accuracy          float64\n",
       "rank_test_accuracy           int32\n",
       "split0_test_precision      float64\n",
       "split1_test_precision      float64\n",
       "mean_test_precision        float64\n",
       "std_test_precision         float64\n",
       "rank_test_precision          int32\n",
       "split0_test_recall         float64\n",
       "split1_test_recall         float64\n",
       "mean_test_recall           float64\n",
       "std_test_recall            float64\n",
       "rank_test_recall             int32\n",
       "split0_test_f1_macro       float64\n",
       "split1_test_f1_macro       float64\n",
       "mean_test_f1_macro         float64\n",
       "std_test_f1_macro          float64\n",
       "rank_test_f1_macro           int32\n",
       "split0_test_f1_weighted    float64\n",
       "split1_test_f1_weighted    float64\n",
       "mean_test_f1_weighted      float64\n",
       "std_test_f1_weighted       float64\n",
       "rank_test_f1_weighted        int32\n",
       "dtype: object"
      ]
     },
     "execution_count": 36,
     "metadata": {},
     "output_type": "execute_result"
    }
   ],
   "source": [
    "cv_results.dtypes"
   ]
  },
  {
   "cell_type": "code",
   "execution_count": 39,
   "metadata": {},
   "outputs": [
    {
     "data": {
      "text/html": [
       "<div>\n",
       "<style scoped>\n",
       "    .dataframe tbody tr th:only-of-type {\n",
       "        vertical-align: middle;\n",
       "    }\n",
       "\n",
       "    .dataframe tbody tr th {\n",
       "        vertical-align: top;\n",
       "    }\n",
       "\n",
       "    .dataframe thead th {\n",
       "        text-align: right;\n",
       "    }\n",
       "</style>\n",
       "<table border=\"1\" class=\"dataframe\">\n",
       "  <thead>\n",
       "    <tr style=\"text-align: right;\">\n",
       "      <th></th>\n",
       "      <th>mean_fit_time</th>\n",
       "      <th>std_fit_time</th>\n",
       "      <th>mean_score_time</th>\n",
       "      <th>std_score_time</th>\n",
       "      <th>param_n_neighbors</th>\n",
       "      <th>param_weights</th>\n",
       "      <th>params</th>\n",
       "      <th>split0_test_accuracy</th>\n",
       "      <th>split1_test_accuracy</th>\n",
       "      <th>mean_test_accuracy</th>\n",
       "      <th>...</th>\n",
       "      <th>split0_test_f1_macro</th>\n",
       "      <th>split1_test_f1_macro</th>\n",
       "      <th>mean_test_f1_macro</th>\n",
       "      <th>std_test_f1_macro</th>\n",
       "      <th>rank_test_f1_macro</th>\n",
       "      <th>split0_test_f1_weighted</th>\n",
       "      <th>split1_test_f1_weighted</th>\n",
       "      <th>mean_test_f1_weighted</th>\n",
       "      <th>std_test_f1_weighted</th>\n",
       "      <th>rank_test_f1_weighted</th>\n",
       "    </tr>\n",
       "  </thead>\n",
       "  <tbody>\n",
       "    <tr>\n",
       "      <th>1</th>\n",
       "      <td>0.312617</td>\n",
       "      <td>0.007292</td>\n",
       "      <td>43.166213</td>\n",
       "      <td>0.426594</td>\n",
       "      <td>3</td>\n",
       "      <td>distance</td>\n",
       "      <td>{'n_neighbors': 3, 'weights': 'distance'}</td>\n",
       "      <td>0.9668</td>\n",
       "      <td>0.9657</td>\n",
       "      <td>0.96625</td>\n",
       "      <td>...</td>\n",
       "      <td>0.966611</td>\n",
       "      <td>0.965437</td>\n",
       "      <td>0.966024</td>\n",
       "      <td>0.000587</td>\n",
       "      <td>1</td>\n",
       "      <td>0.966729</td>\n",
       "      <td>0.965637</td>\n",
       "      <td>0.966183</td>\n",
       "      <td>0.000546</td>\n",
       "      <td>1</td>\n",
       "    </tr>\n",
       "  </tbody>\n",
       "</table>\n",
       "<p>1 rows × 32 columns</p>\n",
       "</div>"
      ],
      "text/plain": [
       "   mean_fit_time  std_fit_time  mean_score_time  std_score_time  \\\n",
       "1       0.312617      0.007292        43.166213        0.426594   \n",
       "\n",
       "  param_n_neighbors param_weights                                     params  \\\n",
       "1                 3      distance  {'n_neighbors': 3, 'weights': 'distance'}   \n",
       "\n",
       "   split0_test_accuracy  split1_test_accuracy  mean_test_accuracy  ...  \\\n",
       "1                0.9668                0.9657             0.96625  ...   \n",
       "\n",
       "   split0_test_f1_macro  split1_test_f1_macro  mean_test_f1_macro  \\\n",
       "1              0.966611              0.965437            0.966024   \n",
       "\n",
       "   std_test_f1_macro  rank_test_f1_macro  split0_test_f1_weighted  \\\n",
       "1           0.000587                   1                 0.966729   \n",
       "\n",
       "   split1_test_f1_weighted  mean_test_f1_weighted  std_test_f1_weighted  \\\n",
       "1                 0.965637               0.966183              0.000546   \n",
       "\n",
       "   rank_test_f1_weighted  \n",
       "1                      1  \n",
       "\n",
       "[1 rows x 32 columns]"
      ]
     },
     "execution_count": 39,
     "metadata": {},
     "output_type": "execute_result"
    }
   ],
   "source": [
    "cv_results.loc[cv_results['rank_test_f1_weighted']==1]"
   ]
  },
  {
   "cell_type": "code",
   "execution_count": 57,
   "metadata": {},
   "outputs": [
    {
     "name": "stdout",
     "output_type": "stream",
     "text": [
      "Wall time: 0 ns\n",
      "KNN Accuracy: 0.971\n"
     ]
    }
   ],
   "source": [
    "from sklearn.metrics import accuracy_score\n",
    "%time\n",
    "print('KNN Accuracy: %.3f' % accuracy_score(y_test,prediction))"
   ]
  }
 ],
 "metadata": {
  "interpreter": {
   "hash": "25f7fb8f076016e7e4fcd0d167b2c4b68ff92904d04721e8551bcaff5a0e3e0f"
  },
  "kernelspec": {
   "display_name": "Python 3.8.5 64-bit ('indicadores': conda)",
   "name": "python3"
  },
  "language_info": {
   "codemirror_mode": {
    "name": "ipython",
    "version": 3
   },
   "file_extension": ".py",
   "mimetype": "text/x-python",
   "name": "python",
   "nbconvert_exporter": "python",
   "pygments_lexer": "ipython3",
   "version": "3.8.5"
  },
  "orig_nbformat": 4
 },
 "nbformat": 4,
 "nbformat_minor": 2
}
